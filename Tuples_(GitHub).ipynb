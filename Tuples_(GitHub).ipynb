{
  "nbformat": 4,
  "nbformat_minor": 0,
  "metadata": {
    "colab": {
      "name": "Tuples (GitHub).ipynb",
      "provenance": [],
      "authorship_tag": "ABX9TyO57/YhhH1YAHvySca6ptu4",
      "include_colab_link": true
    },
    "kernelspec": {
      "name": "python3",
      "display_name": "Python 3"
    }
  },
  "cells": [
    {
      "cell_type": "markdown",
      "metadata": {
        "id": "view-in-github",
        "colab_type": "text"
      },
      "source": [
        "<a href=\"https://colab.research.google.com/github/ShivanshGupta1/Tuples/blob/main/Tuples_(GitHub).ipynb\" target=\"_parent\"><img src=\"https://colab.research.google.com/assets/colab-badge.svg\" alt=\"Open In Colab\"/></a>"
      ]
    },
    {
      "cell_type": "code",
      "metadata": {
        "id": "gv_s0Tt7PrxI",
        "colab": {
          "base_uri": "https://localhost:8080/",
          "height": 34
        },
        "outputId": "f40db42b-7580-4dab-fc38-d19169eced7c"
      },
      "source": [
        "Random_Tupple = ()\n",
        "print(Random_Tupple)"
      ],
      "execution_count": null,
      "outputs": [
        {
          "output_type": "stream",
          "text": [
            "()\n"
          ],
          "name": "stdout"
        }
      ]
    },
    {
      "cell_type": "code",
      "metadata": {
        "id": "aFbESOcwQEHr",
        "colab": {
          "base_uri": "https://localhost:8080/",
          "height": 85
        },
        "outputId": "1173abfd-8f83-4a39-9035-f9fdcc9690e7"
      },
      "source": [
        "#ways to make a tuple\n",
        "\n",
        "#way 1\n",
        "cars = (\"honda\",\"bmw\",\"ferrari\",\"mercedes\",\"tesla\")\n",
        "print(cars)\n",
        "print(type(cars))\n",
        "\n",
        "#way2\n",
        "cars = \"honda\",\"bmw\",\"ferrari\",\"mercedes\",\"tesla\"\n",
        "print(cars)\n",
        "print(type(cars))"
      ],
      "execution_count": null,
      "outputs": [
        {
          "output_type": "stream",
          "text": [
            "('honda', 'bmw', 'ferrari', 'mercedes', 'tesla')\n",
            "<class 'tuple'>\n",
            "('honda', 'bmw', 'ferrari', 'mercedes', 'tesla')\n",
            "<class 'tuple'>\n"
          ],
          "name": "stdout"
        }
      ]
    },
    {
      "cell_type": "code",
      "metadata": {
        "id": "fLdlgclZQ2Mg",
        "colab": {
          "base_uri": "https://localhost:8080/",
          "height": 51
        },
        "outputId": "f287653a-5dd2-4101-ed16-3bcc2cea1b93"
      },
      "source": [
        "#searching in a tuple\n",
        "cars = (\"honda\",\"bmw\",\"ferrari\",\"mercedes\",\"tesla\")\n",
        "print(cars[3])\n",
        "print(cars[-1])"
      ],
      "execution_count": null,
      "outputs": [
        {
          "output_type": "stream",
          "text": [
            "mercedes\n",
            "tesla\n"
          ],
          "name": "stdout"
        }
      ]
    },
    {
      "cell_type": "code",
      "metadata": {
        "id": "jPNiAUK4RDnx",
        "colab": {
          "base_uri": "https://localhost:8080/",
          "height": 34
        },
        "outputId": "f4147b4a-7b3e-46e5-9be4-04b8f4533b87"
      },
      "source": [
        "fruits = \"Mango\",\"Orange\",\"Apple\",\"Banana\",\"Pear\",\"Grapes\",\"Blackberries\"\n",
        "vegetable = \"Tomato\",\"Cucumber\",\"Lettuce\",\"Cabbage\",\"Cauliflower\",\"Raddish\",\"Carrot\"\n",
        "groceries = vegetable+fruits\n",
        "print(groceries)"
      ],
      "execution_count": null,
      "outputs": [
        {
          "output_type": "stream",
          "text": [
            "('Tomato', 'Cucumber', 'Lettuce', 'Cabbage', 'Cauliflower', 'Raddish', 'Carrot', 'Mango', 'Orange', 'Apple', 'Banana', 'Pear', 'Grapes', 'Blackberries')\n"
          ],
          "name": "stdout"
        }
      ]
    },
    {
      "cell_type": "code",
      "metadata": {
        "id": "UCCLgvhrSUaY",
        "colab": {
          "base_uri": "https://localhost:8080/"
        },
        "outputId": "facc6aab-eab0-4749-fe75-137966bd4b12"
      },
      "source": [
        "num = (20,30,40,50)\n",
        "a,b,c,d = num\n",
        "print(a)\n",
        "print(b)\n",
        "print(c)\n",
        "print(d)"
      ],
      "execution_count": null,
      "outputs": [
        {
          "output_type": "stream",
          "text": [
            "20\n",
            "30\n",
            "40\n",
            "50\n"
          ],
          "name": "stdout"
        }
      ]
    },
    {
      "cell_type": "code",
      "metadata": {
        "id": "6z_t626Sa7mQ",
        "colab": {
          "base_uri": "https://localhost:8080/"
        },
        "outputId": "f131e523-099d-455b-f770-6a116915c030"
      },
      "source": [
        "#converting tupple to string\n",
        "num = (\"H\",\"e\",\"l\",\"l\",\"o\")\n",
        "num = \"\".join(num)\n",
        "print(num)\n",
        "num = \"*\".join(num)\n",
        "print(num)"
      ],
      "execution_count": null,
      "outputs": [
        {
          "output_type": "stream",
          "text": [
            "Hello\n",
            "H*e*l*l*o\n"
          ],
          "name": "stdout"
        }
      ]
    },
    {
      "cell_type": "code",
      "metadata": {
        "id": "3pjea-dsctiA",
        "colab": {
          "base_uri": "https://localhost:8080/"
        },
        "outputId": "9bb9291a-4399-4053-b237-8a39dbd7e228"
      },
      "source": [
        "num = (\"H\",\"e\",\"l\",\"l\",\"o\")\n",
        "for i in range(len(num)):\n",
        "  num1=num.count(num[i])\n",
        "  if num1>1:\n",
        "    print(num[i], \"is repeated\")\n",
        "    break"
      ],
      "execution_count": null,
      "outputs": [
        {
          "output_type": "stream",
          "text": [
            "l is repeated\n"
          ],
          "name": "stdout"
        }
      ]
    },
    {
      "cell_type": "code",
      "metadata": {
        "id": "2rz3QBe6eybg",
        "colab": {
          "base_uri": "https://localhost:8080/"
        },
        "outputId": "a8e4ff30-90cd-4b6a-dda1-b9790e66801d"
      },
      "source": [
        "num = (\"H\",\"e\",\"l\",\"l\",\"o\")\n",
        "print(num[::-1])"
      ],
      "execution_count": null,
      "outputs": [
        {
          "output_type": "stream",
          "text": [
            "('o', 'l', 'l', 'e', 'H')\n"
          ],
          "name": "stdout"
        }
      ]
    }
  ]
}